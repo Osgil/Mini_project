{
 "cells": [
  {
   "cell_type": "markdown",
   "id": "621c9350",
   "metadata": {},
   "source": [
    "# __Задачи__\n",
    "* Импортируйте библиотеку pandas как pd. \n",
    "* Загрузите два датасета user_data и logs. Проверьте размер таблицы, типы переменных, наличие пропущенных значений, описательную статистику.\n",
    "* Какой клиент совершил больше всего успешных операций? (success == True)\n",
    "* С какой платформы осуществляется наибольшее количество успешных операций?\n",
    "* Какую платформу предпочитают премиумные клиенты?\n",
    "* Визуализируйте распределение возраста клиентов в зависимости от типа клиента (премиум или нет)\n",
    "* Постройте график распределения числа успешных операций\n",
    "* Визуализируйте число успешных операций, сделанных на платформе computer, в зависимости от возраста, используя sns.countplot (x – возраст, y – число успешных операций). Клиенты какого возраста совершили наибольшее количество успешных действий?"
   ]
  },
  {
   "cell_type": "markdown",
   "id": "5e2b619f",
   "metadata": {},
   "source": [
    "# __Описание данных__\n",
    "user_data:\n",
    "\n",
    "* client – идентификатор пользователя\n",
    "* premium – является ли клиент премиум\n",
    "* age – возраст\n",
    "\n",
    "logs:\n",
    "\n",
    "* client – идентификатор пользователя\n",
    "* success – результат (успех - 1, нет - 0)\n",
    "* platform – платформа\n",
    "* time – время в формате Unix"
   ]
  },
  {
   "cell_type": "markdown",
   "id": "2f99d5e9",
   "metadata": {},
   "source": [
    "#### ___Импортируем необходимые библиотеки___"
   ]
  },
  {
   "cell_type": "code",
   "execution_count": 26,
   "id": "4db6d120",
   "metadata": {},
   "outputs": [],
   "source": [
    "import pandas as pd\n",
    "\n",
    "import requests\n",
    "from urllib.parse import urlencode\n",
    "\n",
    "import seaborn as sns\n",
    "import matplotlib.pyplot as plt\n",
    "%matplotlib inline"
   ]
  },
  {
   "cell_type": "markdown",
   "id": "148d9bac",
   "metadata": {},
   "source": [
    "#### ___Напишим функцию для получения данных с гугл-диска___"
   ]
  },
  {
   "cell_type": "code",
   "execution_count": 2,
   "id": "a7b1a5d5",
   "metadata": {},
   "outputs": [],
   "source": [
    "def get_data(df_url, sep=';'):\n",
    "    \"\"\"Функция для загрузки данных и их преобразования в датафрейм\"\"\"\n",
    "    \n",
    "    base_url = 'https://cloud-api.yandex.net/v1/disk/public/resources/download?'\n",
    "    \n",
    "    # Получаем загрузочную ссылку\n",
    "    final_url = base_url + urlencode(dict(public_key=df_url))\n",
    "    response = requests.get(final_url)\n",
    "    download_url = response.json()['href']\n",
    "\n",
    "    # Загружаем файл и сохраняем его\n",
    "    df = pd.read_csv(download_url, sep=',')\n",
    "    \n",
    "    return df"
   ]
  },
  {
   "cell_type": "code",
   "execution_count": 3,
   "id": "de1288ae",
   "metadata": {},
   "outputs": [],
   "source": [
    "user_data_url = \"https://disk.yandex.ru/d/OO5NC1HYP6Ntug\"\n",
    "logs_url = \"https://disk.yandex.ru/d/E67ttPSdZP2Itg\""
   ]
  },
  {
   "cell_type": "code",
   "execution_count": 4,
   "id": "7374c4d4",
   "metadata": {},
   "outputs": [],
   "source": [
    "user_data_df = get_data(user_data_url)\n",
    "logs_df = get_data(logs_url)"
   ]
  },
  {
   "cell_type": "markdown",
   "id": "72bfebe8",
   "metadata": {},
   "source": [
    "#### ___Датасеты загружены и преобразованы в датафреймы___"
   ]
  },
  {
   "cell_type": "code",
   "execution_count": 5,
   "id": "4ad93a5a",
   "metadata": {},
   "outputs": [
    {
     "data": {
      "text/html": [
       "<div>\n",
       "<style scoped>\n",
       "    .dataframe tbody tr th:only-of-type {\n",
       "        vertical-align: middle;\n",
       "    }\n",
       "\n",
       "    .dataframe tbody tr th {\n",
       "        vertical-align: top;\n",
       "    }\n",
       "\n",
       "    .dataframe thead th {\n",
       "        text-align: right;\n",
       "    }\n",
       "</style>\n",
       "<table border=\"1\" class=\"dataframe\">\n",
       "  <thead>\n",
       "    <tr style=\"text-align: right;\">\n",
       "      <th></th>\n",
       "      <th>client</th>\n",
       "      <th>premium</th>\n",
       "      <th>age</th>\n",
       "    </tr>\n",
       "  </thead>\n",
       "  <tbody>\n",
       "    <tr>\n",
       "      <th>0</th>\n",
       "      <td>46346</td>\n",
       "      <td>False</td>\n",
       "      <td>58</td>\n",
       "    </tr>\n",
       "    <tr>\n",
       "      <th>1</th>\n",
       "      <td>4391</td>\n",
       "      <td>False</td>\n",
       "      <td>55</td>\n",
       "    </tr>\n",
       "    <tr>\n",
       "      <th>2</th>\n",
       "      <td>27372</td>\n",
       "      <td>False</td>\n",
       "      <td>64</td>\n",
       "    </tr>\n",
       "    <tr>\n",
       "      <th>3</th>\n",
       "      <td>11989</td>\n",
       "      <td>False</td>\n",
       "      <td>44</td>\n",
       "    </tr>\n",
       "    <tr>\n",
       "      <th>4</th>\n",
       "      <td>60664</td>\n",
       "      <td>False</td>\n",
       "      <td>49</td>\n",
       "    </tr>\n",
       "  </tbody>\n",
       "</table>\n",
       "</div>"
      ],
      "text/plain": [
       "   client  premium  age\n",
       "0   46346    False   58\n",
       "1    4391    False   55\n",
       "2   27372    False   64\n",
       "3   11989    False   44\n",
       "4   60664    False   49"
      ]
     },
     "execution_count": 5,
     "metadata": {},
     "output_type": "execute_result"
    }
   ],
   "source": [
    "user_data_df.head()"
   ]
  },
  {
   "cell_type": "code",
   "execution_count": 6,
   "id": "db2ab006",
   "metadata": {},
   "outputs": [
    {
     "data": {
      "text/html": [
       "<div>\n",
       "<style scoped>\n",
       "    .dataframe tbody tr th:only-of-type {\n",
       "        vertical-align: middle;\n",
       "    }\n",
       "\n",
       "    .dataframe tbody tr th {\n",
       "        vertical-align: top;\n",
       "    }\n",
       "\n",
       "    .dataframe thead th {\n",
       "        text-align: right;\n",
       "    }\n",
       "</style>\n",
       "<table border=\"1\" class=\"dataframe\">\n",
       "  <thead>\n",
       "    <tr style=\"text-align: right;\">\n",
       "      <th></th>\n",
       "      <th>client</th>\n",
       "      <th>success</th>\n",
       "      <th>platform</th>\n",
       "      <th>time</th>\n",
       "    </tr>\n",
       "  </thead>\n",
       "  <tbody>\n",
       "    <tr>\n",
       "      <th>0</th>\n",
       "      <td>40177</td>\n",
       "      <td>True</td>\n",
       "      <td>phone</td>\n",
       "      <td>1585412212</td>\n",
       "    </tr>\n",
       "    <tr>\n",
       "      <th>1</th>\n",
       "      <td>61468</td>\n",
       "      <td>True</td>\n",
       "      <td>phone</td>\n",
       "      <td>1585425658</td>\n",
       "    </tr>\n",
       "    <tr>\n",
       "      <th>2</th>\n",
       "      <td>35604</td>\n",
       "      <td>False</td>\n",
       "      <td>phone</td>\n",
       "      <td>1585459894</td>\n",
       "    </tr>\n",
       "    <tr>\n",
       "      <th>3</th>\n",
       "      <td>9961</td>\n",
       "      <td>True</td>\n",
       "      <td>phone</td>\n",
       "      <td>1585400189</td>\n",
       "    </tr>\n",
       "    <tr>\n",
       "      <th>4</th>\n",
       "      <td>10931</td>\n",
       "      <td>True</td>\n",
       "      <td>computer</td>\n",
       "      <td>1585468629</td>\n",
       "    </tr>\n",
       "  </tbody>\n",
       "</table>\n",
       "</div>"
      ],
      "text/plain": [
       "   client  success  platform        time\n",
       "0   40177     True     phone  1585412212\n",
       "1   61468     True     phone  1585425658\n",
       "2   35604    False     phone  1585459894\n",
       "3    9961     True     phone  1585400189\n",
       "4   10931     True  computer  1585468629"
      ]
     },
     "execution_count": 6,
     "metadata": {},
     "output_type": "execute_result"
    }
   ],
   "source": [
    "logs_df.head()"
   ]
  },
  {
   "cell_type": "markdown",
   "id": "76b6f9b4",
   "metadata": {},
   "source": [
    "#### ___Напишем функцию для определения размера датасета, наличия пропусков и типов данных, вывода описательной статистике___"
   ]
  },
  {
   "cell_type": "code",
   "execution_count": 7,
   "id": "1bcde63a",
   "metadata": {},
   "outputs": [],
   "source": [
    "lst = ['shape', 'miss_data', 'data_types', 'dstats']"
   ]
  },
  {
   "cell_type": "code",
   "execution_count": 8,
   "id": "c2323d63",
   "metadata": {},
   "outputs": [],
   "source": [
    "def eda(df, lst=lst):\n",
    "    data = {\n",
    "            'shape': df.shape,\n",
    "            'miss_data': df.isna().sum(),\n",
    "            'data_types': df.dtypes,\n",
    "            'dstats': df.describe()\n",
    "            }\n",
    "    for i in lst:\n",
    "        print(f\"\\n{str.capitalize(i)}\\n{data[i]}\\n\")"
   ]
  },
  {
   "cell_type": "code",
   "execution_count": 9,
   "id": "6d5b26b5",
   "metadata": {},
   "outputs": [
    {
     "name": "stdout",
     "output_type": "stream",
     "text": [
      "\n",
      "Shape\n",
      "(4500, 4)\n",
      "\n",
      "\n",
      "Miss_data\n",
      "client      0\n",
      "success     0\n",
      "platform    0\n",
      "time        0\n",
      "dtype: int64\n",
      "\n",
      "\n",
      "Data_types\n",
      "client       int64\n",
      "success       bool\n",
      "platform    object\n",
      "time         int64\n",
      "dtype: object\n",
      "\n",
      "\n",
      "Dstats\n",
      "             client          time\n",
      "count   4500.000000  4.500000e+03\n",
      "mean   50998.758000  1.585440e+09\n",
      "std    28374.472495  2.314866e+04\n",
      "min       40.000000  1.585400e+09\n",
      "25%    27056.500000  1.585420e+09\n",
      "50%    52659.000000  1.585440e+09\n",
      "75%    76001.250000  1.585461e+09\n",
      "max    99993.000000  1.585480e+09\n",
      "\n"
     ]
    }
   ],
   "source": [
    "eda(logs_df)"
   ]
  },
  {
   "cell_type": "code",
   "execution_count": 10,
   "id": "42fcd5a6",
   "metadata": {},
   "outputs": [
    {
     "name": "stdout",
     "output_type": "stream",
     "text": [
      "\n",
      "Shape\n",
      "(2954, 3)\n",
      "\n",
      "\n",
      "Miss_data\n",
      "client     0\n",
      "premium    0\n",
      "age        0\n",
      "dtype: int64\n",
      "\n",
      "\n",
      "Data_types\n",
      "client     int64\n",
      "premium     bool\n",
      "age        int64\n",
      "dtype: object\n",
      "\n",
      "\n",
      "Dstats\n",
      "             client          age\n",
      "count   2954.000000  2954.000000\n",
      "mean   50767.886594    44.196005\n",
      "std    28800.505847    14.248336\n",
      "min       40.000000    20.000000\n",
      "25%    25639.500000    32.000000\n",
      "50%    51569.500000    44.000000\n",
      "75%    75963.250000    56.000000\n",
      "max    99973.000000    69.000000\n",
      "\n"
     ]
    }
   ],
   "source": [
    "eda(user_data_df)"
   ]
  },
  {
   "cell_type": "markdown",
   "id": "5002277b",
   "metadata": {},
   "source": [
    "### __Посмотрим, сколько уникальных платформ есть у нас в датасете__"
   ]
  },
  {
   "cell_type": "code",
   "execution_count": 11,
   "id": "00239d33",
   "metadata": {},
   "outputs": [
    {
     "data": {
      "text/plain": [
       "3"
      ]
     },
     "execution_count": 11,
     "metadata": {},
     "output_type": "execute_result"
    }
   ],
   "source": [
    "logs_df.platform.nunique()"
   ]
  },
  {
   "cell_type": "markdown",
   "id": "d83f8537",
   "metadata": {},
   "source": [
    "#### ___Всего 3 платформы___"
   ]
  },
  {
   "cell_type": "markdown",
   "id": "f26dc6b6",
   "metadata": {},
   "source": [
    "### __Посмотрим, какой клиент совершил больше всего успешых операций__"
   ]
  },
  {
   "cell_type": "code",
   "execution_count": 12,
   "id": "44cf5953",
   "metadata": {},
   "outputs": [
    {
     "name": "stdout",
     "output_type": "stream",
     "text": [
      "      client  success\n",
      "3300   82563       41\n",
      "1426   36165       41\n",
      "2095   52870       41\n",
      "468    12179       41\n",
      "2469   61473       41\n",
      "...      ...      ...\n",
      "2157   54315        0\n",
      "689    17713        0\n",
      "3042   76192        0\n",
      "3041   76172        0\n",
      "2005   50676        0\n",
      "\n",
      "[4011 rows x 2 columns]\n"
     ]
    }
   ],
   "source": [
    "temp = logs_df.groupby('client', as_index=False).agg({'success': 'sum'}).sort_values('success', ascending=False)\n",
    "print(temp)"
   ]
  },
  {
   "cell_type": "code",
   "execution_count": 13,
   "id": "25e2385d",
   "metadata": {
    "scrolled": false
   },
   "outputs": [
    {
     "data": {
      "text/html": [
       "<div>\n",
       "<style scoped>\n",
       "    .dataframe tbody tr th:only-of-type {\n",
       "        vertical-align: middle;\n",
       "    }\n",
       "\n",
       "    .dataframe tbody tr th {\n",
       "        vertical-align: top;\n",
       "    }\n",
       "\n",
       "    .dataframe thead th {\n",
       "        text-align: right;\n",
       "    }\n",
       "</style>\n",
       "<table border=\"1\" class=\"dataframe\">\n",
       "  <thead>\n",
       "    <tr style=\"text-align: right;\">\n",
       "      <th></th>\n",
       "      <th>client</th>\n",
       "      <th>success</th>\n",
       "    </tr>\n",
       "  </thead>\n",
       "  <tbody>\n",
       "    <tr>\n",
       "      <th>3300</th>\n",
       "      <td>82563</td>\n",
       "      <td>41</td>\n",
       "    </tr>\n",
       "    <tr>\n",
       "      <th>1426</th>\n",
       "      <td>36165</td>\n",
       "      <td>41</td>\n",
       "    </tr>\n",
       "    <tr>\n",
       "      <th>2095</th>\n",
       "      <td>52870</td>\n",
       "      <td>41</td>\n",
       "    </tr>\n",
       "    <tr>\n",
       "      <th>468</th>\n",
       "      <td>12179</td>\n",
       "      <td>41</td>\n",
       "    </tr>\n",
       "    <tr>\n",
       "      <th>2469</th>\n",
       "      <td>61473</td>\n",
       "      <td>41</td>\n",
       "    </tr>\n",
       "    <tr>\n",
       "      <th>3141</th>\n",
       "      <td>78349</td>\n",
       "      <td>41</td>\n",
       "    </tr>\n",
       "    <tr>\n",
       "      <th>1120</th>\n",
       "      <td>28719</td>\n",
       "      <td>41</td>\n",
       "    </tr>\n",
       "    <tr>\n",
       "      <th>2468</th>\n",
       "      <td>61468</td>\n",
       "      <td>41</td>\n",
       "    </tr>\n",
       "    <tr>\n",
       "      <th>3712</th>\n",
       "      <td>92584</td>\n",
       "      <td>41</td>\n",
       "    </tr>\n",
       "    <tr>\n",
       "      <th>2562</th>\n",
       "      <td>64064</td>\n",
       "      <td>40</td>\n",
       "    </tr>\n",
       "  </tbody>\n",
       "</table>\n",
       "</div>"
      ],
      "text/plain": [
       "      client  success\n",
       "3300   82563       41\n",
       "1426   36165       41\n",
       "2095   52870       41\n",
       "468    12179       41\n",
       "2469   61473       41\n",
       "3141   78349       41\n",
       "1120   28719       41\n",
       "2468   61468       41\n",
       "3712   92584       41\n",
       "2562   64064       40"
      ]
     },
     "execution_count": 13,
     "metadata": {},
     "output_type": "execute_result"
    }
   ],
   "source": [
    "temp.head(10)"
   ]
  },
  {
   "cell_type": "markdown",
   "id": "75e8bc6d",
   "metadata": {},
   "source": [
    "#### ___Сразу 9 клиентов совершили одинаковое количество результативных действий!___"
   ]
  },
  {
   "cell_type": "code",
   "execution_count": 14,
   "id": "49101a37",
   "metadata": {},
   "outputs": [
    {
     "name": "stdout",
     "output_type": "stream",
     "text": [
      "82563, 36165, 52870, 12179, 61473, 78349, 28719, 61468, 92584\n"
     ]
    }
   ],
   "source": [
    "for i in temp.head(9).client: # их id\n",
    "    if i == 92584:\n",
    "        print(i)\n",
    "    else:\n",
    "        print(i, end=', ') \n",
    "    "
   ]
  },
  {
   "cell_type": "markdown",
   "id": "158285a9",
   "metadata": {},
   "source": [
    "### __Узнаем, с какой платформы осуществляется наибольшее количество успешных операций__"
   ]
  },
  {
   "cell_type": "code",
   "execution_count": 18,
   "id": "bca76f25",
   "metadata": {},
   "outputs": [
    {
     "data": {
      "text/plain": [
       "platform\n",
       "computer    1505\n",
       "phone       2753\n",
       "tablet       242\n",
       "Name: success, dtype: int64"
      ]
     },
     "execution_count": 18,
     "metadata": {},
     "output_type": "execute_result"
    }
   ],
   "source": [
    "temp = logs_df.groupby('platform')['success'].count()\n",
    "temp"
   ]
  },
  {
   "cell_type": "code",
   "execution_count": 20,
   "id": "2247b052",
   "metadata": {},
   "outputs": [
    {
     "data": {
      "text/plain": [
       "platform\n",
       "phone    2753\n",
       "Name: success, dtype: int64"
      ]
     },
     "execution_count": 20,
     "metadata": {},
     "output_type": "execute_result"
    }
   ],
   "source": [
    "temp.sort_values().tail(1)"
   ]
  },
  {
   "cell_type": "markdown",
   "id": "d30638cc",
   "metadata": {},
   "source": [
    "#### ___Наиболее  \"успешной\" плаформой являются мобильные телефоны___ "
   ]
  },
  {
   "cell_type": "markdown",
   "id": "682accd5",
   "metadata": {},
   "source": [
    "### __Какая платформа наиболее популярна среди премиумных клиентов?__"
   ]
  },
  {
   "cell_type": "markdown",
   "id": "34e84d62",
   "metadata": {},
   "source": [
    "#### ___Чтобы дать ответь на поставленный вопрос объединим наши датафреймы___"
   ]
  },
  {
   "cell_type": "code",
   "execution_count": 23,
   "id": "1d588474",
   "metadata": {},
   "outputs": [
    {
     "data": {
      "text/html": [
       "<div>\n",
       "<style scoped>\n",
       "    .dataframe tbody tr th:only-of-type {\n",
       "        vertical-align: middle;\n",
       "    }\n",
       "\n",
       "    .dataframe tbody tr th {\n",
       "        vertical-align: top;\n",
       "    }\n",
       "\n",
       "    .dataframe thead th {\n",
       "        text-align: right;\n",
       "    }\n",
       "</style>\n",
       "<table border=\"1\" class=\"dataframe\">\n",
       "  <thead>\n",
       "    <tr style=\"text-align: right;\">\n",
       "      <th></th>\n",
       "      <th>client</th>\n",
       "      <th>premium</th>\n",
       "      <th>age</th>\n",
       "      <th>success</th>\n",
       "      <th>platform</th>\n",
       "      <th>time</th>\n",
       "    </tr>\n",
       "  </thead>\n",
       "  <tbody>\n",
       "    <tr>\n",
       "      <th>0</th>\n",
       "      <td>46346</td>\n",
       "      <td>False</td>\n",
       "      <td>58</td>\n",
       "      <td>True</td>\n",
       "      <td>phone</td>\n",
       "      <td>1585452839</td>\n",
       "    </tr>\n",
       "    <tr>\n",
       "      <th>1</th>\n",
       "      <td>4391</td>\n",
       "      <td>False</td>\n",
       "      <td>55</td>\n",
       "      <td>False</td>\n",
       "      <td>phone</td>\n",
       "      <td>1585409861</td>\n",
       "    </tr>\n",
       "    <tr>\n",
       "      <th>2</th>\n",
       "      <td>27372</td>\n",
       "      <td>False</td>\n",
       "      <td>64</td>\n",
       "      <td>False</td>\n",
       "      <td>phone</td>\n",
       "      <td>1585446018</td>\n",
       "    </tr>\n",
       "    <tr>\n",
       "      <th>3</th>\n",
       "      <td>11989</td>\n",
       "      <td>False</td>\n",
       "      <td>44</td>\n",
       "      <td>True</td>\n",
       "      <td>computer</td>\n",
       "      <td>1585403698</td>\n",
       "    </tr>\n",
       "    <tr>\n",
       "      <th>4</th>\n",
       "      <td>60664</td>\n",
       "      <td>False</td>\n",
       "      <td>49</td>\n",
       "      <td>True</td>\n",
       "      <td>phone</td>\n",
       "      <td>1585406918</td>\n",
       "    </tr>\n",
       "  </tbody>\n",
       "</table>\n",
       "</div>"
      ],
      "text/plain": [
       "   client  premium  age  success  platform        time\n",
       "0   46346    False   58     True     phone  1585452839\n",
       "1    4391    False   55    False     phone  1585409861\n",
       "2   27372    False   64    False     phone  1585446018\n",
       "3   11989    False   44     True  computer  1585403698\n",
       "4   60664    False   49     True     phone  1585406918"
      ]
     },
     "execution_count": 23,
     "metadata": {},
     "output_type": "execute_result"
    }
   ],
   "source": [
    "full_data = pd.merge(user_data_df, logs_df, on='client')\n",
    "full_data.head()"
   ]
  },
  {
   "cell_type": "code",
   "execution_count": 25,
   "id": "b7ca26b6",
   "metadata": {},
   "outputs": [
    {
     "data": {
      "text/plain": [
       "platform\n",
       "computer    145\n",
       "phone       242\n",
       "tablet       24\n",
       "Name: client, dtype: int64"
      ]
     },
     "execution_count": 25,
     "metadata": {},
     "output_type": "execute_result"
    }
   ],
   "source": [
    "full_data[full_data['premium'] == 1].groupby('platform')['client'].nunique()"
   ]
  },
  {
   "cell_type": "markdown",
   "id": "46b8a519",
   "metadata": {},
   "source": [
    "#### ___Среди премиальных клиентов телефонная платформа наиболее популярна___"
   ]
  },
  {
   "cell_type": "markdown",
   "id": "963fc072",
   "metadata": {},
   "source": [
    "### __Визуализируйте распределение возраста клиентов в зависимости от типа клиента, используя библиотеку seaborn с исходными параметрами. Какой график получится в результате?___"
   ]
  },
  {
   "cell_type": "code",
   "execution_count": 36,
   "id": "8fffe844",
   "metadata": {},
   "outputs": [
    {
     "data": {
      "text/plain": [
       "<seaborn.axisgrid.FacetGrid at 0x2d21404c730>"
      ]
     },
     "execution_count": 36,
     "metadata": {},
     "output_type": "execute_result"
    },
    {
     "data": {
      "image/png": "[encoded data removed]",
      "text/plain": [
       "<Figure size 500x500 with 1 Axes>"
      ]
     },
     "metadata": {},
     "output_type": "display_data"
    },
    {
     "data": {
      "image/png": "[encoded data removed]",
      "text/plain": [
       "<Figure size 500x500 with 1 Axes>"
      ]
     },
     "metadata": {},
     "output_type": "display_data"
    }
   ],
   "source": [
    "premium = full_data[full_data['premium'] == 1].age\n",
    "not_premium = full_data[full_data['premium'] == 0].age\n",
    "sns.displot(premium)\n",
    "sns.displot(not_premium)"
   ]
  },
  {
   "cell_type": "markdown",
   "id": "99a4da45",
   "metadata": {},
   "source": [
    "#### __Постройте график распределения числа успешных операций:__\n",
    "\n",
    "x – число успешных операций\n",
    "y – число клиентов, совершивших столько успешных операций"
   ]
  },
  {
   "cell_type": "code",
   "execution_count": 41,
   "id": "6437296c",
   "metadata": {},
   "outputs": [
    {
     "name": "stderr",
     "output_type": "stream",
     "text": [
      "C:\\Anaconda\\envs\\Carpov\\lib\\site-packages\\seaborn\\distributions.py:2619: FutureWarning: `distplot` is a deprecated function and will be removed in a future version. Please adapt your code to use either `displot` (a figure-level function with similar flexibility) or `histplot` (an axes-level function for histograms).\n",
      "  warnings.warn(msg, FutureWarning)\n"
     ]
    },
    {
     "data": {
      "text/plain": [
       "<AxesSubplot:xlabel='success', ylabel='Density'>"
      ]
     },
     "execution_count": 41,
     "metadata": {},
     "output_type": "execute_result"
    },
    {
     "data": {
      "image/png": "[encoded data removed]",
      "text/plain": [
       "<Figure size 640x480 with 1 Axes>"
      ]
     },
     "metadata": {},
     "output_type": "display_data"
    }
   ],
   "source": [
    "sns.distplot(full_data.groupby('client')['success'].sum())"
   ]
  },
  {
   "cell_type": "markdown",
   "id": "3e399f0e",
   "metadata": {},
   "source": [
    "___Большая часть клиентов совершила не более 5 успешных попыток, однако, в правой части графика можно увидеть, что ряд клиентов более 40 удачных операций___"
   ]
  },
  {
   "cell_type": "markdown",
   "id": "f469da92",
   "metadata": {},
   "source": [
    "__Визуализируйте число успешных операций, сделанных на платформе computer, в зависимости от возраста, используя sns.countplot. По оси x – возраст, y – число успешных операций.__"
   ]
  },
  {
   "cell_type": "code",
   "execution_count": 59,
   "id": "f15b858b",
   "metadata": {},
   "outputs": [
    {
     "data": {
      "text/html": [
       "<div>\n",
       "<style scoped>\n",
       "    .dataframe tbody tr th:only-of-type {\n",
       "        vertical-align: middle;\n",
       "    }\n",
       "\n",
       "    .dataframe tbody tr th {\n",
       "        vertical-align: top;\n",
       "    }\n",
       "\n",
       "    .dataframe thead th {\n",
       "        text-align: right;\n",
       "    }\n",
       "</style>\n",
       "<table border=\"1\" class=\"dataframe\">\n",
       "  <thead>\n",
       "    <tr style=\"text-align: right;\">\n",
       "      <th></th>\n",
       "      <th>client</th>\n",
       "      <th>premium</th>\n",
       "      <th>age</th>\n",
       "      <th>success</th>\n",
       "      <th>platform</th>\n",
       "      <th>time</th>\n",
       "    </tr>\n",
       "  </thead>\n",
       "  <tbody>\n",
       "    <tr>\n",
       "      <th>0</th>\n",
       "      <td>46346</td>\n",
       "      <td>False</td>\n",
       "      <td>58</td>\n",
       "      <td>True</td>\n",
       "      <td>phone</td>\n",
       "      <td>1585452839</td>\n",
       "    </tr>\n",
       "    <tr>\n",
       "      <th>1</th>\n",
       "      <td>4391</td>\n",
       "      <td>False</td>\n",
       "      <td>55</td>\n",
       "      <td>False</td>\n",
       "      <td>phone</td>\n",
       "      <td>1585409861</td>\n",
       "    </tr>\n",
       "    <tr>\n",
       "      <th>2</th>\n",
       "      <td>27372</td>\n",
       "      <td>False</td>\n",
       "      <td>64</td>\n",
       "      <td>False</td>\n",
       "      <td>phone</td>\n",
       "      <td>1585446018</td>\n",
       "    </tr>\n",
       "    <tr>\n",
       "      <th>3</th>\n",
       "      <td>11989</td>\n",
       "      <td>False</td>\n",
       "      <td>44</td>\n",
       "      <td>True</td>\n",
       "      <td>computer</td>\n",
       "      <td>1585403698</td>\n",
       "    </tr>\n",
       "    <tr>\n",
       "      <th>4</th>\n",
       "      <td>60664</td>\n",
       "      <td>False</td>\n",
       "      <td>49</td>\n",
       "      <td>True</td>\n",
       "      <td>phone</td>\n",
       "      <td>1585406918</td>\n",
       "    </tr>\n",
       "  </tbody>\n",
       "</table>\n",
       "</div>"
      ],
      "text/plain": [
       "   client  premium  age  success  platform        time\n",
       "0   46346    False   58     True     phone  1585452839\n",
       "1    4391    False   55    False     phone  1585409861\n",
       "2   27372    False   64    False     phone  1585446018\n",
       "3   11989    False   44     True  computer  1585403698\n",
       "4   60664    False   49     True     phone  1585406918"
      ]
     },
     "execution_count": 59,
     "metadata": {},
     "output_type": "execute_result"
    }
   ],
   "source": [
    "full_data.head()"
   ]
  },
  {
   "cell_type": "code",
   "execution_count": 66,
   "id": "5109fc8e",
   "metadata": {},
   "outputs": [
    {
     "data": {
      "text/plain": [
       "<AxesSubplot:xlabel='age', ylabel='count'>"
      ]
     },
     "execution_count": 66,
     "metadata": {},
     "output_type": "execute_result"
    },
    {
     "data": {
      "image/png": "[encoded data removed]",
      "text/plain": [
       "<Figure size 1200x900 with 1 Axes>"
      ]
     },
     "metadata": {},
     "output_type": "display_data"
    }
   ],
   "source": [
    "temp = full_data[(full_data['platform'] == 'computer') & (full_data['success'] == True)]\n",
    "\n",
    "plt.figure(figsize=(12, 9))\n",
    "sns.countplot(data=temp, x='age')"
   ]
  },
  {
   "cell_type": "markdown",
   "id": "32352632",
   "metadata": {},
   "source": [
    "Наибольшее количество успешных траев на платформе computer совершают клиенты до 35 лет, так же заметен выброс"
   ]
  }
 ],
 "metadata": {
  "kernelspec": {
   "display_name": "Python 3.9.8 ('venv': venv)",
   "language": "python",
   "name": "python3"
  },
  "language_info": {
   "codemirror_mode": {
    "name": "ipython",
    "version": 3
   },
   "file_extension": ".py",
   "mimetype": "text/x-python",
   "name": "python",
   "nbconvert_exporter": "python",
   "pygments_lexer": "ipython3",
   "version": "3.9.8"
  },
  "vscode": {
   "interpreter": {
    "hash": "7d771c39384910c217b8a277678e4190c36a5ebea5f7ef6b06d314863875a750"
   }
  }
 },
 "nbformat": 4,
 "nbformat_minor": 5
}
